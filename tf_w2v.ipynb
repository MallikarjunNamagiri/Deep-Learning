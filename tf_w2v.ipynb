{
  "nbformat": 4,
  "nbformat_minor": 0,
  "metadata": {
    "colab": {
      "name": "tf_w2v",
      "version": "0.3.2",
      "provenance": [],
      "collapsed_sections": [],
      "include_colab_link": true
    },
    "kernelspec": {
      "name": "python3",
      "display_name": "Python 3"
    },
    "accelerator": "GPU"
  },
  "cells": [
    {
      "cell_type": "markdown",
      "metadata": {
        "id": "view-in-github",
        "colab_type": "text"
      },
      "source": [
        "<a href=\"https://colab.research.google.com/github/MallikarjunNamagiri/Deep-Learning/blob/master/tf_w2v.ipynb\" target=\"_parent\"><img src=\"https://colab.research.google.com/assets/colab-badge.svg\" alt=\"Open In Colab\"/></a>"
      ]
    },
    {
      "cell_type": "code",
      "metadata": {
        "id": "1zeL3dDLqS10",
        "colab_type": "code",
        "outputId": "eba6c159-c359-4b25-cd8f-3876c2c24d44",
        "colab": {
          "base_uri": "https://localhost:8080/",
          "height": 51
        }
      },
      "source": [
        "!pip install -U -q PyDrive\n",
        "from pydrive.auth import GoogleAuth\n",
        "from pydrive.drive import GoogleDrive\n",
        "from google.colab import auth\n",
        "from oauth2client.client import GoogleCredentials\n",
        "\n",
        "# 1. Authenticate and create the PyDrive client.\n",
        "auth.authenticate_user()\n",
        "gauth = GoogleAuth()\n",
        "gauth.credentials = GoogleCredentials.get_application_default()\n",
        "drive = GoogleDrive(gauth)"
      ],
      "execution_count": 0,
      "outputs": [
        {
          "output_type": "stream",
          "text": [
            "\u001b[?25l\r\u001b[K     |▎                               | 10kB 18.3MB/s eta 0:00:01\r\u001b[K     |▋                               | 20kB 3.4MB/s eta 0:00:01\r\u001b[K     |█                               | 30kB 4.9MB/s eta 0:00:01\r\u001b[K     |█▎                              | 40kB 3.1MB/s eta 0:00:01\r\u001b[K     |█▋                              | 51kB 3.8MB/s eta 0:00:01\r\u001b[K     |██                              | 61kB 4.6MB/s eta 0:00:01\r\u001b[K     |██▎                             | 71kB 5.2MB/s eta 0:00:01\r\u001b[K     |██▋                             | 81kB 5.9MB/s eta 0:00:01\r\u001b[K     |███                             | 92kB 6.6MB/s eta 0:00:01\r\u001b[K     |███▎                            | 102kB 5.1MB/s eta 0:00:01\r\u001b[K     |███▋                            | 112kB 5.1MB/s eta 0:00:01\r\u001b[K     |████                            | 122kB 5.1MB/s eta 0:00:01\r\u001b[K     |████▎                           | 133kB 5.1MB/s eta 0:00:01\r\u001b[K     |████▋                           | 143kB 5.1MB/s eta 0:00:01\r\u001b[K     |█████                           | 153kB 5.1MB/s eta 0:00:01\r\u001b[K     |█████▎                          | 163kB 5.1MB/s eta 0:00:01\r\u001b[K     |█████▋                          | 174kB 5.1MB/s eta 0:00:01\r\u001b[K     |██████                          | 184kB 5.1MB/s eta 0:00:01\r\u001b[K     |██████▎                         | 194kB 5.1MB/s eta 0:00:01\r\u001b[K     |██████▋                         | 204kB 5.1MB/s eta 0:00:01\r\u001b[K     |███████                         | 215kB 5.1MB/s eta 0:00:01\r\u001b[K     |███████▎                        | 225kB 5.1MB/s eta 0:00:01\r\u001b[K     |███████▋                        | 235kB 5.1MB/s eta 0:00:01\r\u001b[K     |████████                        | 245kB 5.1MB/s eta 0:00:01\r\u001b[K     |████████▎                       | 256kB 5.1MB/s eta 0:00:01\r\u001b[K     |████████▋                       | 266kB 5.1MB/s eta 0:00:01\r\u001b[K     |█████████                       | 276kB 5.1MB/s eta 0:00:01\r\u001b[K     |█████████▎                      | 286kB 5.1MB/s eta 0:00:01\r\u001b[K     |█████████▋                      | 296kB 5.1MB/s eta 0:00:01\r\u001b[K     |██████████                      | 307kB 5.1MB/s eta 0:00:01\r\u001b[K     |██████████▎                     | 317kB 5.1MB/s eta 0:00:01\r\u001b[K     |██████████▋                     | 327kB 5.1MB/s eta 0:00:01\r\u001b[K     |███████████                     | 337kB 5.1MB/s eta 0:00:01\r\u001b[K     |███████████▎                    | 348kB 5.1MB/s eta 0:00:01\r\u001b[K     |███████████▋                    | 358kB 5.1MB/s eta 0:00:01\r\u001b[K     |████████████                    | 368kB 5.1MB/s eta 0:00:01\r\u001b[K     |████████████▎                   | 378kB 5.1MB/s eta 0:00:01\r\u001b[K     |████████████▋                   | 389kB 5.1MB/s eta 0:00:01\r\u001b[K     |█████████████                   | 399kB 5.1MB/s eta 0:00:01\r\u001b[K     |█████████████▎                  | 409kB 5.1MB/s eta 0:00:01\r\u001b[K     |█████████████▋                  | 419kB 5.1MB/s eta 0:00:01\r\u001b[K     |██████████████                  | 430kB 5.1MB/s eta 0:00:01\r\u001b[K     |██████████████▎                 | 440kB 5.1MB/s eta 0:00:01\r\u001b[K     |██████████████▋                 | 450kB 5.1MB/s eta 0:00:01\r\u001b[K     |███████████████                 | 460kB 5.1MB/s eta 0:00:01\r\u001b[K     |███████████████▎                | 471kB 5.1MB/s eta 0:00:01\r\u001b[K     |███████████████▋                | 481kB 5.1MB/s eta 0:00:01\r\u001b[K     |████████████████                | 491kB 5.1MB/s eta 0:00:01\r\u001b[K     |████████████████▎               | 501kB 5.1MB/s eta 0:00:01\r\u001b[K     |████████████████▋               | 512kB 5.1MB/s eta 0:00:01\r\u001b[K     |█████████████████               | 522kB 5.1MB/s eta 0:00:01\r\u001b[K     |█████████████████▎              | 532kB 5.1MB/s eta 0:00:01\r\u001b[K     |█████████████████▋              | 542kB 5.1MB/s eta 0:00:01\r\u001b[K     |██████████████████              | 552kB 5.1MB/s eta 0:00:01\r\u001b[K     |██████████████████▎             | 563kB 5.1MB/s eta 0:00:01\r\u001b[K     |██████████████████▋             | 573kB 5.1MB/s eta 0:00:01\r\u001b[K     |███████████████████             | 583kB 5.1MB/s eta 0:00:01\r\u001b[K     |███████████████████▎            | 593kB 5.1MB/s eta 0:00:01\r\u001b[K     |███████████████████▋            | 604kB 5.1MB/s eta 0:00:01\r\u001b[K     |████████████████████            | 614kB 5.1MB/s eta 0:00:01\r\u001b[K     |████████████████████▎           | 624kB 5.1MB/s eta 0:00:01\r\u001b[K     |████████████████████▋           | 634kB 5.1MB/s eta 0:00:01\r\u001b[K     |█████████████████████           | 645kB 5.1MB/s eta 0:00:01\r\u001b[K     |█████████████████████▎          | 655kB 5.1MB/s eta 0:00:01\r\u001b[K     |█████████████████████▋          | 665kB 5.1MB/s eta 0:00:01\r\u001b[K     |██████████████████████          | 675kB 5.1MB/s eta 0:00:01\r\u001b[K     |██████████████████████▎         | 686kB 5.1MB/s eta 0:00:01\r\u001b[K     |██████████████████████▋         | 696kB 5.1MB/s eta 0:00:01\r\u001b[K     |███████████████████████         | 706kB 5.1MB/s eta 0:00:01\r\u001b[K     |███████████████████████▎        | 716kB 5.1MB/s eta 0:00:01\r\u001b[K     |███████████████████████▋        | 727kB 5.1MB/s eta 0:00:01\r\u001b[K     |████████████████████████        | 737kB 5.1MB/s eta 0:00:01\r\u001b[K     |████████████████████████▎       | 747kB 5.1MB/s eta 0:00:01\r\u001b[K     |████████████████████████▋       | 757kB 5.1MB/s eta 0:00:01\r\u001b[K     |████████████████████████▉       | 768kB 5.1MB/s eta 0:00:01\r\u001b[K     |█████████████████████████▏      | 778kB 5.1MB/s eta 0:00:01\r\u001b[K     |█████████████████████████▌      | 788kB 5.1MB/s eta 0:00:01\r\u001b[K     |█████████████████████████▉      | 798kB 5.1MB/s eta 0:00:01\r\u001b[K     |██████████████████████████▏     | 808kB 5.1MB/s eta 0:00:01\r\u001b[K     |██████████████████████████▌     | 819kB 5.1MB/s eta 0:00:01\r\u001b[K     |██████████████████████████▉     | 829kB 5.1MB/s eta 0:00:01\r\u001b[K     |███████████████████████████▏    | 839kB 5.1MB/s eta 0:00:01\r\u001b[K     |███████████████████████████▌    | 849kB 5.1MB/s eta 0:00:01\r\u001b[K     |███████████████████████████▉    | 860kB 5.1MB/s eta 0:00:01\r\u001b[K     |████████████████████████████▏   | 870kB 5.1MB/s eta 0:00:01\r\u001b[K     |████████████████████████████▌   | 880kB 5.1MB/s eta 0:00:01\r\u001b[K     |████████████████████████████▉   | 890kB 5.1MB/s eta 0:00:01\r\u001b[K     |█████████████████████████████▏  | 901kB 5.1MB/s eta 0:00:01\r\u001b[K     |█████████████████████████████▌  | 911kB 5.1MB/s eta 0:00:01\r\u001b[K     |█████████████████████████████▉  | 921kB 5.1MB/s eta 0:00:01\r\u001b[K     |██████████████████████████████▏ | 931kB 5.1MB/s eta 0:00:01\r\u001b[K     |██████████████████████████████▌ | 942kB 5.1MB/s eta 0:00:01\r\u001b[K     |██████████████████████████████▉ | 952kB 5.1MB/s eta 0:00:01\r\u001b[K     |███████████████████████████████▏| 962kB 5.1MB/s eta 0:00:01\r\u001b[K     |███████████████████████████████▌| 972kB 5.1MB/s eta 0:00:01\r\u001b[K     |███████████████████████████████▉| 983kB 5.1MB/s eta 0:00:01\r\u001b[K     |████████████████████████████████| 993kB 5.1MB/s \n",
            "\u001b[?25h  Building wheel for PyDrive (setup.py) ... \u001b[?25l\u001b[?25hdone\n"
          ],
          "name": "stdout"
        }
      ]
    },
    {
      "cell_type": "code",
      "metadata": {
        "id": "9ZqavtfPqrDK",
        "colab_type": "code",
        "colab": {}
      },
      "source": [
        "# Fetching the data from the Gdrive by using id. -- train data\n",
        "file_id = '18rr8jvKXhMMGPAhWMj49ZS643L26jnlv'\n",
        "downloaded = drive.CreateFile({'id': file_id})\n",
        "downloaded.GetContentFile('raw_text.txt')"
      ],
      "execution_count": 0,
      "outputs": []
    },
    {
      "cell_type": "code",
      "metadata": {
        "id": "gd1l7KKprZsE",
        "colab_type": "code",
        "colab": {}
      },
      "source": [
        "import os\n",
        "import random\n",
        "import sys\n",
        "import zipfile\n",
        "from tempfile import gettempdir\n",
        "\n",
        "import numpy as np\n",
        "\n",
        "from six.moves import urllib\n",
        "from six.moves import xrange  # pylint: disable=redefined-builtin\n",
        "import tensorflow as tf\n",
        "\n",
        "from tensorflow.contrib.tensorboard.plugins import projector"
      ],
      "execution_count": 0,
      "outputs": []
    },
    {
      "cell_type": "code",
      "metadata": {
        "id": "hstgT2ekrqDw",
        "colab_type": "code",
        "colab": {}
      },
      "source": [
        "data_index = 0\n",
        "\n",
        "def word2vec(log_dir):\n",
        "  if not os.path.exists(log_dir):\n",
        "    os.makedirs(log_dir)\n",
        "    \n",
        "# Step 1: import the data\n",
        "# def raw_data(filename):\n",
        "\n",
        "#filename = open('final_raw.zip', 'r')  \n",
        "filename = open('raw_text.txt', 'r')"
      ],
      "execution_count": 0,
      "outputs": []
    },
    {
      "cell_type": "code",
      "metadata": {
        "colab_type": "code",
        "id": "jaf4CCaRubj4",
        "colab": {}
      },
      "source": [
        "  # Read the data into a list of strings.\n",
        "  def read_data(filename):\n",
        "    \"\"\"Extract the first file enclosed in a zip file as a list of words.\"\"\"\n",
        "    with zipfile.ZipFile(filename) as f:\n",
        "      data = tf.compat.as_str(f.read(f.namelist()[0])).split()\n",
        "    return data"
      ],
      "execution_count": 0,
      "outputs": []
    },
    {
      "cell_type": "code",
      "metadata": {
        "id": "e1IL7L63xe2u",
        "colab_type": "code",
        "outputId": "1281c0b6-d0bc-449c-b6d0-0ee8edf34248",
        "colab": {
          "base_uri": "https://localhost:8080/",
          "height": 180
        }
      },
      "source": [
        "#tf.compat.as_str(filename.read(filename.list()[0])).split()\n",
        "data = filename.read().split(' ')\n",
        "data = data.replace('\\t', ' ')"
      ],
      "execution_count": 0,
      "outputs": [
        {
          "output_type": "error",
          "ename": "AttributeError",
          "evalue": "ignored",
          "traceback": [
            "\u001b[0;31m---------------------------------------------------------------------------\u001b[0m",
            "\u001b[0;31mAttributeError\u001b[0m                            Traceback (most recent call last)",
            "\u001b[0;32m<ipython-input-10-0f8de0525bbd>\u001b[0m in \u001b[0;36m<module>\u001b[0;34m()\u001b[0m\n\u001b[1;32m      1\u001b[0m \u001b[0mdata\u001b[0m \u001b[0;34m=\u001b[0m \u001b[0mfilename\u001b[0m\u001b[0;34m.\u001b[0m\u001b[0mread\u001b[0m\u001b[0;34m(\u001b[0m\u001b[0;34m)\u001b[0m\u001b[0;34m.\u001b[0m\u001b[0msplit\u001b[0m\u001b[0;34m(\u001b[0m\u001b[0;34m' '\u001b[0m\u001b[0;34m)\u001b[0m\u001b[0;34m\u001b[0m\u001b[0;34m\u001b[0m\u001b[0m\n\u001b[0;32m----> 2\u001b[0;31m \u001b[0mdata\u001b[0m \u001b[0;34m=\u001b[0m \u001b[0mdata\u001b[0m\u001b[0;34m.\u001b[0m\u001b[0mreplace\u001b[0m\u001b[0;34m(\u001b[0m\u001b[0;34m'\\t'\u001b[0m\u001b[0;34m,\u001b[0m \u001b[0;34m' '\u001b[0m\u001b[0;34m)\u001b[0m\u001b[0;34m\u001b[0m\u001b[0;34m\u001b[0m\u001b[0m\n\u001b[0m",
            "\u001b[0;31mAttributeError\u001b[0m: 'list' object has no attribute 'replace'"
          ]
        }
      ]
    },
    {
      "cell_type": "code",
      "metadata": {
        "id": "jccynbED1MS7",
        "colab_type": "code",
        "colab": {}
      },
      "source": [
        ""
      ],
      "execution_count": 0,
      "outputs": []
    }
  ]
}