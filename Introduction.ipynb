{
  "nbformat": 4,
  "nbformat_minor": 0,
  "metadata": {
    "colab": {
      "name": "Introduction.ipynb",
      "version": "0.3.2",
      "provenance": [],
      "include_colab_link": true
    },
    "kernelspec": {
      "name": "python3",
      "display_name": "Python 3"
    }
  },
  "cells": [
    {
      "cell_type": "markdown",
      "metadata": {
        "id": "view-in-github",
        "colab_type": "text"
      },
      "source": [
        "<a href=\"https://colab.research.google.com/github/MallikarjunNamagiri/Deep-Learning/blob/master/Introduction.ipynb\" target=\"_parent\"><img src=\"https://colab.research.google.com/assets/colab-badge.svg\" alt=\"Open In Colab\"/></a>"
      ]
    },
    {
      "cell_type": "code",
      "metadata": {
        "id": "mE3QLLUtXt7P",
        "colab_type": "code",
        "colab": {}
      },
      "source": [
        "import csv\n",
        "import requests\n",
        "from bs4 import BeautifulSoup"
      ],
      "execution_count": 0,
      "outputs": []
    },
    {
      "cell_type": "code",
      "metadata": {
        "id": "0YTqGr06YGYQ",
        "colab_type": "code",
        "colab": {}
      },
      "source": [
        "def scrap_data(url):\n",
        "  response = requests.get(url, timeout=10)\n",
        "  soup = BeautifulSoup(response.content, 'html.parser')\n",
        "  \n",
        "  table = soup.find_all('table')[1]\n",
        "  \n",
        "  rows = table.select('tbody > tr')\n",
        "\n",
        "  header = [th.text.rstrip() for th in rows[0].find_all('th')]\n",
        "\n",
        "  with open('output.csv', 'w') as csv_file:\n",
        "    writer = csv.writer(csv_file)\n",
        "    writer.writerow(header)\n",
        "    for row in rows[1:]:\n",
        "      data = [th.text.rstrip() for th in row.find_all('td')]\n",
        "      writer.writerow(data)"
      ],
      "execution_count": 0,
      "outputs": []
    }
  ]
}